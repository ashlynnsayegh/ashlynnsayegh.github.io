{
  "nbformat": 4,
  "nbformat_minor": 0,
  "metadata": {
    "colab": {
      "provenance": [],
      "include_colab_link": true
    },
    "kernelspec": {
      "name": "python3",
      "display_name": "Python 3"
    },
    "language_info": {
      "name": "python"
    }
  },
  "cells": [
    {
      "cell_type": "markdown",
      "metadata": {
        "id": "view-in-github",
        "colab_type": "text"
      },
      "source": [
        "<a href=\"https://colab.research.google.com/github/ashlynnsayegh/ashlynnsayegh.github.io/blob/main/HW11.ipynb\" target=\"_parent\"><img src=\"https://colab.research.google.com/assets/colab-badge.svg\" alt=\"Open In Colab\"/></a>"
      ]
    },
    {
      "cell_type": "markdown",
      "metadata": {
        "id": "kaON7iBRlqUh"
      },
      "source": [
        "# HW 9 (final homework 🎉)\n",
        "### SDS322E\n",
        "\n"
      ]
    },
    {
      "cell_type": "markdown",
      "metadata": {
        "id": "dQ-weIFYlu-l"
      },
      "source": [
        "## Enter your name and EID here\n",
        "\n",
        "**This lab HW will be on Google colab. Make a copy for yourself and work on your own version. You do not need to download your code. Please do not submit your notebook or an HTML file. Click on Share bottom (on the top right), and change the permission to anyone with the link, give edit access, and then share the link on Canvas.**\n",
        "\n",
        "*For all questions, include the Python commands/functions that you used to find your answer. Answers without supporting code will not receive credit.*\n"
      ]
    },
    {
      "cell_type": "markdown",
      "metadata": {
        "id": "_DnNmWEjlyoC"
      },
      "source": [
        "**Congradulations on finishing this course, and thank you for the amazing class. In each homework and lab, my goal was to teach you something new that we did not have time to discuss in class.**\n",
        "\n",
        "In this last homework, we go over a simiplified version of a project that later lead to a start-up.\n",
        "\n",
        "\n",
        "### Libraries\n",
        "\n",
        "Here I import the relevant libraries for your convinience, but feel free to make changes or import additional libraries, as needed."
      ]
    },
    {
      "cell_type": "code",
      "metadata": {
        "id": "fsAf80y1R8Cp"
      },
      "source": [
        "import numpy as np\n",
        "import matplotlib.pylab as plt\n",
        "import pandas as pd\n",
        "\n",
        "from sklearn.model_selection import train_test_split\n",
        "from sklearn import metrics\n",
        "import sklearn"
      ],
      "execution_count": null,
      "outputs": []
    },
    {
      "cell_type": "markdown",
      "metadata": {
        "id": "E-oDfQ_llvw0"
      },
      "source": [
        "### Question. Flint Water Crisis (20 points)\n",
        "\n",
        "In this problem we want to tackle a real-world problem, that impacts 40,000 residents of the City of Flint in Michigan. The Flint water crisis is a public health crisis that started in 2014, after the drinking water source for the city of Flint, Michigan was changed. In April 2014, Flint changed its water source from treated Detroit Water and Sewerage Department water to the Flint River. We provide a set of data collected by our team in 2015. Your task is to employ these data and build a predictive model to determine whether or not a home in Flint has a dangerous level of lead contamination in its water.\n",
        "\n",
        "For this problem set, we have packaged together a large chunk of the publicly-available data from Flint's voluntary residential water testing program. You will be provided with water tests from homes in Flint. Along with the lead test results, you will be provided with other features of the home and lead test, including property value, vacancy status, and time of test. For each sample, we provide you with the result of the lead test, given in parts per billion (PPB). Please see the data field definitions at the end of the problem set. The EPA action level for a dangerous concentration of lead is 15 PPB.\n",
        "\n",
        "\n",
        "Your task is to build a classifier to predict whether or not the lead test result was at or above 15 PPB for each sample in the test set. We go through all steps together, (1) cleaning data, (2) model building, (3) model evaluation, and (4) interpretation.\n",
        "\n",
        "#### Data fields\n",
        "\n",
        "NOTE: If a field is missing from the data file that is provided to you that is fine, we reduced the size of the data file to make it manageable. In this problem, the parcel refers to the individual home.\n",
        "\n",
        "- Lead_(ppb) - lead concentration in water (parts per billion)\n",
        "- Latitude - latitude of the parcel\n",
        "- Longitude - longitude of the parcel\n",
        "- Land_Value - parcel value\n",
        "- Land_Improvements_Value - value of improvements on the parcel\n",
        "- Residential_Building_Value - value of parcel (residential only)\n",
        "- Commercial_Building_Value - value of parcel (commercial only)\n",
        "- Building_Storeys - height of parcel in stories\n",
        "- Parcel_Acres - size of parcel's lot\n",
        "- Rental - whether or not the parcel is a rental\n",
        "- Use_Type - parcel usage type\n",
        "- Prop_Class - type of residential/commercial usage\n",
        "- Year_Built - year the parcel was built\n",
        "- Zoning - zoning type of the lot\n",
        "- Future_Landuse - lot is planned for use in the future\n",
        "- DRAFT_Zone - future assigned zoning\n",
        "- Ward - division of the city\n",
        "- SL_Type - service line type\n",
        "- SL_Type2 - service line secondary type\n",
        "- SL_Lead - whether or not the service line contains lead\n",
        "- Homestead  - Whether or not the parcel is a homestead\n",
        "- Homestead_Percent - Fraction of homestead\n",
        "- HomeSEV  - State Equalized Value"
      ]
    },
    {
      "cell_type": "markdown",
      "metadata": {
        "id": "SOpmVuctl_j2"
      },
      "source": [
        "### 1 Loading Data\n",
        "\n",
        "First, load the dataset, `Flint_data.csv`."
      ]
    },
    {
      "cell_type": "code",
      "metadata": {
        "id": "0dhsNRsASAHe",
        "colab": {
          "base_uri": "https://localhost:8080/",
          "height": 223
        },
        "outputId": "1a96dfa8-ca68-48c7-95d2-04d5c7087249"
      },
      "source": [
        "df = pd.read_csv('https://raw.githubusercontent.com/h-aung/Phys206_repo/master/Flint.csv')\n",
        "# df.dropna(inplace=True)\n",
        "df.head()"
      ],
      "execution_count": null,
      "outputs": [
        {
          "output_type": "execute_result",
          "data": {
            "text/html": [
              "<div>\n",
              "<style scoped>\n",
              "    .dataframe tbody tr th:only-of-type {\n",
              "        vertical-align: middle;\n",
              "    }\n",
              "\n",
              "    .dataframe tbody tr th {\n",
              "        vertical-align: top;\n",
              "    }\n",
              "\n",
              "    .dataframe thead th {\n",
              "        text-align: right;\n",
              "    }\n",
              "</style>\n",
              "<table border=\"1\" class=\"dataframe\">\n",
              "  <thead>\n",
              "    <tr style=\"text-align: right;\">\n",
              "      <th></th>\n",
              "      <th>Land Value</th>\n",
              "      <th>SL_Type2</th>\n",
              "      <th>Year Built</th>\n",
              "      <th>Commercial Building Value</th>\n",
              "      <th>HomeSEV</th>\n",
              "      <th>Homestead Percent</th>\n",
              "      <th>Land Improvements Value</th>\n",
              "      <th>Latitude</th>\n",
              "      <th>Property Zip Code</th>\n",
              "      <th>Longitude</th>\n",
              "      <th>Parcel Acres</th>\n",
              "      <th>Residential Building Value</th>\n",
              "      <th>SL_Type</th>\n",
              "      <th>Lead (ppb)</th>\n",
              "    </tr>\n",
              "  </thead>\n",
              "  <tbody>\n",
              "    <tr>\n",
              "      <th>0</th>\n",
              "      <td>4959</td>\n",
              "      <td>0</td>\n",
              "      <td>1954</td>\n",
              "      <td>0.0</td>\n",
              "      <td>0</td>\n",
              "      <td>100.0</td>\n",
              "      <td>0</td>\n",
              "      <td>32.819562</td>\n",
              "      <td>48506.0</td>\n",
              "      <td>-96.807295</td>\n",
              "      <td>0.142</td>\n",
              "      <td>14299</td>\n",
              "      <td>1</td>\n",
              "      <td>0.0</td>\n",
              "    </tr>\n",
              "    <tr>\n",
              "      <th>1</th>\n",
              "      <td>18319</td>\n",
              "      <td>0</td>\n",
              "      <td>1939</td>\n",
              "      <td>0.0</td>\n",
              "      <td>0</td>\n",
              "      <td>100.0</td>\n",
              "      <td>0</td>\n",
              "      <td>41.612146</td>\n",
              "      <td>48503.0</td>\n",
              "      <td>-83.592350</td>\n",
              "      <td>0.121</td>\n",
              "      <td>90597</td>\n",
              "      <td>1</td>\n",
              "      <td>0.0</td>\n",
              "    </tr>\n",
              "    <tr>\n",
              "      <th>2</th>\n",
              "      <td>1640</td>\n",
              "      <td>0</td>\n",
              "      <td>1952</td>\n",
              "      <td>0.0</td>\n",
              "      <td>9000</td>\n",
              "      <td>100.0</td>\n",
              "      <td>0</td>\n",
              "      <td>37.072064</td>\n",
              "      <td>48506.0</td>\n",
              "      <td>-94.510948</td>\n",
              "      <td>0.096</td>\n",
              "      <td>57545</td>\n",
              "      <td>5</td>\n",
              "      <td>0.0</td>\n",
              "    </tr>\n",
              "    <tr>\n",
              "      <th>3</th>\n",
              "      <td>17877</td>\n",
              "      <td>0</td>\n",
              "      <td>1942</td>\n",
              "      <td>0.0</td>\n",
              "      <td>18000</td>\n",
              "      <td>100.0</td>\n",
              "      <td>0</td>\n",
              "      <td>43.019594</td>\n",
              "      <td>48503.0</td>\n",
              "      <td>-83.659978</td>\n",
              "      <td>0.115</td>\n",
              "      <td>130230</td>\n",
              "      <td>1</td>\n",
              "      <td>7.0</td>\n",
              "    </tr>\n",
              "    <tr>\n",
              "      <th>4</th>\n",
              "      <td>25156</td>\n",
              "      <td>0</td>\n",
              "      <td>1953</td>\n",
              "      <td>0.0</td>\n",
              "      <td>21200</td>\n",
              "      <td>100.0</td>\n",
              "      <td>0</td>\n",
              "      <td>43.012109</td>\n",
              "      <td>48503.0</td>\n",
              "      <td>-83.668858</td>\n",
              "      <td>0.143</td>\n",
              "      <td>112447</td>\n",
              "      <td>1</td>\n",
              "      <td>13.0</td>\n",
              "    </tr>\n",
              "  </tbody>\n",
              "</table>\n",
              "</div>"
            ],
            "text/plain": [
              "   Land Value  SL_Type2  ...  SL_Type  Lead (ppb)\n",
              "0        4959         0  ...        1         0.0\n",
              "1       18319         0  ...        1         0.0\n",
              "2        1640         0  ...        5         0.0\n",
              "3       17877         0  ...        1         7.0\n",
              "4       25156         0  ...        1        13.0\n",
              "\n",
              "[5 rows x 14 columns]"
            ]
          },
          "metadata": {},
          "execution_count": 8
        }
      ]
    },
    {
      "cell_type": "markdown",
      "metadata": {
        "id": "iC-GYeq2mw0k"
      },
      "source": [
        "### 2 Prepare Data -- part 1 (3 points)\n",
        "\n",
        "\n",
        "Our goal is to perform classification, so we do not try to predict the `Lead (ppb)`, directly. Let's create a new column `label`. `label` is a binary variable `label`: `label`=1 if `Lead (ppb)` >= 15 or y=0 if `Lead (ppb)` < 15.\n",
        "\n",
        "Why 15 is special? Because this is the level that is regulated by the federal government. Above this threshold is considered as actionable and below this threshold is considered as non-actionable by the federal rules. This does not imply that having lead level of less than 15 ppb is safe, thought."
      ]
    },
    {
      "cell_type": "code",
      "metadata": {
        "id": "i--_D1N7m3B1"
      },
      "source": [
        "# your code"
      ],
      "execution_count": null,
      "outputs": []
    },
    {
      "cell_type": "markdown",
      "metadata": {
        "id": "rJ1TfIedm4DQ"
      },
      "source": [
        "### 3 Prepare Data  -- part 2 (3 points)\n",
        "\n",
        "First drop column `Lead (ppb)`. Construct the feature and label variables. Then split the data randomly into training and test data sets. **[3 points]**\n",
        "\n",
        "`label` : label (a binary variable 1 if Lead (ppb) >= 15 0 otherwise)\n",
        "\n",
        "the rest (except `Lead (ppb)` and `label`) : independent (feature) variables  "
      ]
    },
    {
      "cell_type": "code",
      "metadata": {
        "id": "2YU3KhJFm_28"
      },
      "source": [
        "# your code"
      ],
      "execution_count": null,
      "outputs": []
    },
    {
      "cell_type": "markdown",
      "metadata": {
        "id": "2L2qb0rdR_es"
      },
      "source": [
        "### 4 Training (4 points)\n",
        "\n",
        "Use `sklearn` library and train 2 different classifiers of your choice using the training subset."
      ]
    },
    {
      "cell_type": "code",
      "metadata": {
        "id": "TkY2j0-rnH3k"
      },
      "source": [
        "# your code"
      ],
      "execution_count": null,
      "outputs": []
    },
    {
      "cell_type": "markdown",
      "metadata": {
        "id": "FS5ve2WnnJFA"
      },
      "source": [
        "### 5 Model Evaluation -- part 1 (2 points)\n",
        "\n",
        "Evaluate the performance of your models on the test subset, beyound accuracy, use another performance metric (like percision or recall) and explain what this performance metric is measuring."
      ]
    },
    {
      "cell_type": "code",
      "metadata": {
        "id": "iK9PS2tKnXeX"
      },
      "source": [
        "# your code"
      ],
      "execution_count": null,
      "outputs": []
    },
    {
      "cell_type": "markdown",
      "metadata": {
        "id": "ihtw3gTtnZ5c"
      },
      "source": [
        "#### 6 Model Evaluation -- part 2 (2 points)\n",
        "\n",
        "\n",
        "Make the confusion matrix for both models using the test sample."
      ]
    },
    {
      "cell_type": "code",
      "metadata": {
        "id": "nh2PqVlgnhFz"
      },
      "source": [
        "# your code"
      ],
      "execution_count": null,
      "outputs": []
    },
    {
      "cell_type": "markdown",
      "metadata": {
        "id": "lgu82-6HnrbV"
      },
      "source": [
        "### 2.5 Feture Importance. (6 points)\n",
        "\n",
        "We want to use SHAP to evaluate the importance of features.\n",
        "Given your predictive model, what features are the most important ones in your model? The code is given to you, you just need to interpret the plot.  Describe what each plot is showing and what are the most important features."
      ]
    },
    {
      "cell_type": "code",
      "metadata": {
        "colab": {
          "base_uri": "https://localhost:8080/"
        },
        "id": "MZO_KaSknkDf",
        "outputId": "cab5359f-e951-464a-b351-03bb808ff319"
      },
      "source": [
        "!pip install shap\n",
        "import shap"
      ],
      "execution_count": null,
      "outputs": [
        {
          "output_type": "stream",
          "name": "stdout",
          "text": [
            "Looking in indexes: https://pypi.org/simple, https://us-python.pkg.dev/colab-wheels/public/simple/\n",
            "Collecting shap\n",
            "  Downloading shap-0.41.0-cp37-cp37m-manylinux_2_12_x86_64.manylinux2010_x86_64.whl (569 kB)\n",
            "\u001b[K     |████████████████████████████████| 569 kB 5.1 MB/s \n",
            "\u001b[?25hRequirement already satisfied: scikit-learn in /usr/local/lib/python3.7/dist-packages (from shap) (1.0.2)\n",
            "Collecting slicer==0.0.7\n",
            "  Downloading slicer-0.0.7-py3-none-any.whl (14 kB)\n",
            "Requirement already satisfied: numba in /usr/local/lib/python3.7/dist-packages (from shap) (0.56.4)\n",
            "Requirement already satisfied: packaging>20.9 in /usr/local/lib/python3.7/dist-packages (from shap) (21.3)\n",
            "Requirement already satisfied: scipy in /usr/local/lib/python3.7/dist-packages (from shap) (1.7.3)\n",
            "Requirement already satisfied: pandas in /usr/local/lib/python3.7/dist-packages (from shap) (1.3.5)\n",
            "Requirement already satisfied: numpy in /usr/local/lib/python3.7/dist-packages (from shap) (1.21.6)\n",
            "Requirement already satisfied: tqdm>4.25.0 in /usr/local/lib/python3.7/dist-packages (from shap) (4.64.1)\n",
            "Requirement already satisfied: cloudpickle in /usr/local/lib/python3.7/dist-packages (from shap) (1.5.0)\n",
            "Requirement already satisfied: pyparsing!=3.0.5,>=2.0.2 in /usr/local/lib/python3.7/dist-packages (from packaging>20.9->shap) (3.0.9)\n",
            "Requirement already satisfied: llvmlite<0.40,>=0.39.0dev0 in /usr/local/lib/python3.7/dist-packages (from numba->shap) (0.39.1)\n",
            "Requirement already satisfied: importlib-metadata in /usr/local/lib/python3.7/dist-packages (from numba->shap) (4.13.0)\n",
            "Requirement already satisfied: setuptools in /usr/local/lib/python3.7/dist-packages (from numba->shap) (57.4.0)\n",
            "Requirement already satisfied: typing-extensions>=3.6.4 in /usr/local/lib/python3.7/dist-packages (from importlib-metadata->numba->shap) (4.1.1)\n",
            "Requirement already satisfied: zipp>=0.5 in /usr/local/lib/python3.7/dist-packages (from importlib-metadata->numba->shap) (3.10.0)\n",
            "Requirement already satisfied: pytz>=2017.3 in /usr/local/lib/python3.7/dist-packages (from pandas->shap) (2022.6)\n",
            "Requirement already satisfied: python-dateutil>=2.7.3 in /usr/local/lib/python3.7/dist-packages (from pandas->shap) (2.8.2)\n",
            "Requirement already satisfied: six>=1.5 in /usr/local/lib/python3.7/dist-packages (from python-dateutil>=2.7.3->pandas->shap) (1.15.0)\n",
            "Requirement already satisfied: joblib>=0.11 in /usr/local/lib/python3.7/dist-packages (from scikit-learn->shap) (1.2.0)\n",
            "Requirement already satisfied: threadpoolctl>=2.0.0 in /usr/local/lib/python3.7/dist-packages (from scikit-learn->shap) (3.1.0)\n",
            "Installing collected packages: slicer, shap\n",
            "Successfully installed shap-0.41.0 slicer-0.0.7\n"
          ]
        }
      ]
    },
    {
      "cell_type": "code",
      "metadata": {
        "colab": {
          "base_uri": "https://localhost:8080/"
        },
        "id": "1dpdXjEj9w9J",
        "outputId": "37bc57a6-5b7d-436e-b5b2-1e579825fc0f"
      },
      "source": [
        "from sklearn.ensemble import RandomForestClassifier\n",
        "\n",
        "df = pd.read_csv('https://raw.githubusercontent.com/h-aung/Phys206_repo/master/Flint.csv')\n",
        "\n",
        "df['label'] = 1\n",
        "df['label'][df['Lead (ppb)'] < 15] = 0\n",
        "df.drop('Lead (ppb)', axis=1, inplace=True)\n",
        "\n",
        "X = df.iloc[:, :-1]; y = df['label']\n",
        "\n",
        "clf = RandomForestClassifier(n_estimators=500, random_state=23)\n",
        "clf.fit(X, y)"
      ],
      "execution_count": null,
      "outputs": [
        {
          "output_type": "stream",
          "name": "stderr",
          "text": [
            "\n",
            "A value is trying to be set on a copy of a slice from a DataFrame\n",
            "\n",
            "See the caveats in the documentation: https://pandas.pydata.org/pandas-docs/stable/user_guide/indexing.html#returning-a-view-versus-a-copy\n"
          ]
        },
        {
          "output_type": "execute_result",
          "data": {
            "text/plain": [
              "RandomForestClassifier(n_estimators=500, random_state=23)"
            ]
          },
          "metadata": {},
          "execution_count": 4
        }
      ]
    },
    {
      "cell_type": "code",
      "metadata": {
        "colab": {
          "base_uri": "https://localhost:8080/",
          "height": 492
        },
        "id": "X5TY_AyOnt5X",
        "outputId": "4a2b3440-3df7-4155-c57f-d3c66e0120f5"
      },
      "source": [
        "explainer = shap.Explainer(clf)\n",
        "shap_values = explainer.shap_values(X[::200])\n",
        "shap.summary_plot(shap_values, X[::200])"
      ],
      "execution_count": null,
      "outputs": [
        {
          "output_type": "display_data",
          "data": {
            "text/plain": [
              "<Figure size 576x482.4 with 1 Axes>"
            ],
            "image/png": "[encoded data removed]"
          },
          "metadata": {
            "needs_background": "light"
          }
        }
      ]
    },
    {
      "cell_type": "code",
      "metadata": {
        "colab": {
          "base_uri": "https://localhost:8080/",
          "height": 327
        },
        "id": "n7Fm9GBFpqpa",
        "outputId": "48a4bf25-1322-44ff-aa28-24b135938081"
      },
      "source": [
        "object_i = 33\n",
        "class_object_i = int(y[::200].iloc[object_i])\n",
        "print('True Class (if 1, Lead PPB > 15, othewise Lead PPB < 15 ):', class_object_i)\n",
        "print('Probability that this data point belong to class 0 = %0.2f'%(explainer.expected_value[0] + sum(shap_values[0][object_i,:])))\n",
        "print('Base Probability for class 0 = %0.2f'%(explainer.expected_value[0]))\n",
        "\n",
        "shap.force_plot(explainer.expected_value[0],\n",
        "                shap_values[0][object_i,:],\n",
        "                X.iloc[object_i,:],\n",
        "                matplotlib=True)"
      ],
      "execution_count": null,
      "outputs": [
        {
          "output_type": "stream",
          "name": "stdout",
          "text": [
            "True Class (if 1, Lead PPB > 15, othewise Lead PPB < 15 ): 1\n",
            "Probability that this data point belong to class 0 = 0.31\n",
            "Base Probability for class 0 = 0.89\n"
          ]
        },
        {
          "output_type": "display_data",
          "data": {
            "text/plain": [
              "<Figure size 1440x216 with 1 Axes>"
            ],
            "image/png": "[encoded data removed]"
          },
          "metadata": {
            "needs_background": "light"
          }
        }
      ]
    },
    {
      "cell_type": "markdown",
      "metadata": {
        "id": "ldu5pXgIrJRq"
      },
      "source": [
        "#### your answer"
      ]
    },
    {
      "cell_type": "markdown",
      "metadata": {
        "id": "_zNeQzy9ngOX"
      },
      "source": [
        "**THE END**"
      ]
    }
  ]
}